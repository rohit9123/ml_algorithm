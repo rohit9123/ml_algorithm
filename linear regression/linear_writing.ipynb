{
 "cells": [
  {
   "cell_type": "code",
   "execution_count": 15,
   "id": "bf23bb2e",
   "metadata": {},
   "outputs": [],
   "source": [
    "import numpy as np"
   ]
  },
  {
   "cell_type": "code",
   "execution_count": 16,
   "id": "a81d8f9e",
   "metadata": {},
   "outputs": [
    {
     "data": {
      "text/plain": [
       "(100, 2)"
      ]
     },
     "execution_count": 16,
     "metadata": {},
     "output_type": "execute_result"
    }
   ],
   "source": [
    "data=np.loadtxt(\"data.csv\",delimiter=\",\")\n",
    "data.shape\n"
   ]
  },
  {
   "cell_type": "code",
   "execution_count": 27,
   "id": "ac9fadea",
   "metadata": {},
   "outputs": [
    {
     "data": {
      "text/plain": [
       "(0.4526933966592317, 16.031664370230096, (100,), (100,))"
      ]
     },
     "execution_count": 27,
     "metadata": {},
     "output_type": "execute_result"
    }
   ],
   "source": [
    "x=data[:,1]\n",
    "y=data[:,0]\n",
    "\n",
    "m=((x*y).mean()-x.mean()*y.mean())/((x*x).mean()-x.mean()*x.mean())\n",
    "c=y.mean()-m*x.mean()\n",
    "m,c,x.shape,y.shape"
   ]
  },
  {
   "cell_type": "code",
   "execution_count": 32,
   "id": "84f61f9a",
   "metadata": {},
   "outputs": [
    {
     "data": {
      "image/png": "[encoded data removed]",
      "text/plain": [
       "<Figure size 432x288 with 1 Axes>"
      ]
     },
     "metadata": {
      "needs_background": "light"
     },
     "output_type": "display_data"
    }
   ],
   "source": [
    "import matplotlib.pyplot as plt\n",
    "x_line = np.arange(30,120,0.1)\n",
    "y_line=m*x_line+c\n",
    "plt.plot(x_line, y_line, \"r\")\n",
    "# x.reshape(100)\n",
    "# y.reshape(100)\n",
    "plt.scatter(x,y);\n",
    "plt.show()"
   ]
  },
  {
   "cell_type": "code",
   "execution_count": 44,
   "id": "b27d07d7",
   "metadata": {},
   "outputs": [
    {
     "name": "stdout",
     "output_type": "stream",
     "text": [
      "0.5986557915386619\n"
     ]
    }
   ],
   "source": [
    "sum_x,sumy=0,0\n",
    "for i in range(100):\n",
    "    sum_x=sum_x+(abs(y[i]-(m*x[i]+c))**2)\n",
    "for i in range(100):\n",
    "    sumy=sumy+(abs(y[i]-y.mean())**2)\n",
    "#     print(sumy)\n",
    "sum_x,sumy\n",
    "print(1-sum_x/sumy)"
   ]
  },
  {
   "cell_type": "code",
   "execution_count": null,
   "id": "1241c1e7",
   "metadata": {},
   "outputs": [],
   "source": []
  }
 ],
 "metadata": {
  "kernelspec": {
   "display_name": "Python 3 (ipykernel)",
   "language": "python",
   "name": "python3"
  },
  "language_info": {
   "codemirror_mode": {
    "name": "ipython",
    "version": 3
   },
   "file_extension": ".py",
   "mimetype": "text/x-python",
   "name": "python",
   "nbconvert_exporter": "python",
   "pygments_lexer": "ipython3",
   "version": "3.8.8"
  }
 },
 "nbformat": 4,
 "nbformat_minor": 5
}
