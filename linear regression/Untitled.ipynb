{
 "cells": [
  {
   "cell_type": "code",
   "execution_count": 19,
   "id": "47814964",
   "metadata": {},
   "outputs": [],
   "source": [
    "import numpy as np\n",
    "data=np.loadtxt(\"train.csv\",delimiter=\",\")\n"
   ]
  },
  {
   "cell_type": "code",
   "execution_count": 20,
   "id": "30eb80d0",
   "metadata": {},
   "outputs": [],
   "source": [
    "x=data[:,:10]\n",
    "y=data[:,10]\n"
   ]
  },
  {
   "cell_type": "code",
   "execution_count": 21,
   "id": "d758f409",
   "metadata": {},
   "outputs": [],
   "source": [
    "from sklearn.linear_model import LinearRegression\n",
    "alg=LinearRegression()"
   ]
  },
  {
   "cell_type": "code",
   "execution_count": 39,
   "id": "4dba91fb",
   "metadata": {},
   "outputs": [
    {
     "name": "stdout",
     "output_type": "stream",
     "text": [
      "150.702574894566\n",
      "[  21.73408096 -256.66866675  569.60940087  303.63233545 -833.11088526\n",
      "  525.74313633  136.07129167  140.89458927  731.44498492   53.32119133]\n"
     ]
    }
   ],
   "source": [
    "alg.fit(x,y)\n",
    "data1=np.loadtxt(\"test.csv\",delimiter=\",\")\n",
    "x1=data1[:,:10]\n",
    "# y1=data1[:,10]\n",
    "# print(y1)\n",
    "ans=alg.predict(x1)\n",
    "ans2=alg.predict(x)\n",
    "for i in range(len(ans)):\n",
    "    ans[i]=format(ans[i],'.5f')\n",
    "#     print(ans[i])\n",
    "# print(len(ans))\n",
    "print(alg.intercept_)\n",
    "print(alg.coef_)"
   ]
  },
  {
   "cell_type": "code",
   "execution_count": 41,
   "id": "29bb717a",
   "metadata": {},
   "outputs": [
    {
     "data": {
      "text/plain": [
       "0.4957208055805604"
      ]
     },
     "execution_count": 41,
     "metadata": {},
     "output_type": "execute_result"
    }
   ],
   "source": [
    "alg.score(x,y)"
   ]
  },
  {
   "cell_type": "code",
   "execution_count": null,
   "id": "edee5d2f",
   "metadata": {},
   "outputs": [],
   "source": []
  }
 ],
 "metadata": {
  "kernelspec": {
   "display_name": "Python 3 (ipykernel)",
   "language": "python",
   "name": "python3"
  },
  "language_info": {
   "codemirror_mode": {
    "name": "ipython",
    "version": 3
   },
   "file_extension": ".py",
   "mimetype": "text/x-python",
   "name": "python",
   "nbconvert_exporter": "python",
   "pygments_lexer": "ipython3",
   "version": "3.8.8"
  }
 },
 "nbformat": 4,
 "nbformat_minor": 5
}
